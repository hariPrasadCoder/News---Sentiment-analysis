{
 "cells": [
  {
   "cell_type": "markdown",
   "metadata": {},
   "source": [
    "# NEWS - Web Scrapping & Sentiment Analysis"
   ]
  },
  {
   "cell_type": "markdown",
   "metadata": {},
   "source": [
    "### Importing libraries"
   ]
  },
  {
   "cell_type": "code",
   "execution_count": 242,
   "metadata": {},
   "outputs": [],
   "source": [
    "import pandas as pd\n",
    "import requests\n",
    "from bs4 import BeautifulSoup\n",
    "import string\n",
    "from nltk.tokenize import word_tokenize\n",
    "from nltk.corpus import stopwords\n",
    "from nltk.stem import WordNetLemmatizer\n",
    "from collections import Counter\n",
    "from nltk.sentiment.vader import SentimentIntensityAnalyzer\n",
    "import matplotlib.pyplot as plt"
   ]
  },
  {
   "cell_type": "markdown",
   "metadata": {},
   "source": [
    "### Asking the news for particular topic:"
   ]
  },
  {
   "cell_type": "code",
   "execution_count": 243,
   "metadata": {},
   "outputs": [
    {
     "name": "stdout",
     "output_type": "stream",
     "text": [
      "1 - HDFC\n",
      "2 - Infosys\n"
     ]
    }
   ],
   "source": [
    "print('''1 - HDFC\n",
    "2 - Infosys''')"
   ]
  },
  {
   "cell_type": "markdown",
   "metadata": {},
   "source": [
    "### After user input & parsing the  html:"
   ]
  },
  {
   "cell_type": "code",
   "execution_count": 244,
   "metadata": {},
   "outputs": [
    {
     "name": "stdout",
     "output_type": "stream",
     "text": [
      "Enter a number: 1\n"
     ]
    }
   ],
   "source": [
    "inp = int(input('Enter a number: '))\n",
    "if inp == 1:\n",
    "    end = 'HDFC-Bank/news'\n",
    "elif inp == 2:\n",
    "    end = 'infosys/news'   \n",
    "    \n",
    "page = requests.get('https://timesofindia.indiatimes.com/topic/' + end)\n",
    "\n",
    "soup = BeautifulSoup(page.content,'html.parser')"
   ]
  },
  {
   "cell_type": "markdown",
   "metadata": {},
   "source": [
    "### Finding the content (news headlines):"
   ]
  },
  {
   "cell_type": "code",
   "execution_count": 245,
   "metadata": {},
   "outputs": [],
   "source": [
    "news = soup.find_all(class_ = 'title')\n",
    "headline = [item.contents[0] for item in news]"
   ]
  },
  {
   "cell_type": "markdown",
   "metadata": {},
   "source": [
    "### Coverting it into a single paragraph and filtering:"
   ]
  },
  {
   "cell_type": "code",
   "execution_count": 246,
   "metadata": {
    "scrolled": true
   },
   "outputs": [
    {
     "name": "stdout",
     "output_type": "stream",
     "text": [
      "1 \n",
      "HDFC Q4 net falls 22%, no bank dividend\n",
      "\n",
      "2 \n",
      "HDFC Ltd Q4 profit declines 10% to Rs 4,342 crore\n",
      "\n",
      "3 \n",
      "Banks lead sensex slide, bonds up after RBI cut\n",
      "\n",
      "4 \n",
      "Apple iPhone SE to get Rs 3,600 discount with HDFC Bank debit and credit cards\n",
      "\n",
      "5 \n",
      "Yes Bank plans bad bank, eyes Rs 15k cr capital raise\n",
      "\n",
      "6 \n",
      "Sensex dives 2,002 points on PMI’s historic low, global cues\n",
      "\n",
      "7 \n",
      "HDFC Life Insurance Q4 result today, stock up 5%\n",
      "\n",
      "8 \n",
      "HDFC acquires 6.43% stake in Reliance Capital\n",
      "\n",
      "9 \n",
      "Nippon MF, HDFC MF stocks crash\n",
      "\n",
      "10 \n",
      "Sensex gains 743 pts riding on RIL rally to end at 31,380\n",
      "\n",
      "11 \n",
      "Oil price slide, virus spread pull sensex down 1,011 pts\n",
      "\n"
     ]
    }
   ],
   "source": [
    "actual_text = ''\n",
    "count = 0\n",
    "for line in headline:\n",
    "    actual_text = actual_text + ' ' + line\n",
    "    count += 1\n",
    "    print(count,line)\n",
    "    if count>10:\n",
    "        break    "
   ]
  },
  {
   "cell_type": "code",
   "execution_count": 247,
   "metadata": {},
   "outputs": [],
   "source": [
    "lower_case = actual_text.lower()"
   ]
  },
  {
   "cell_type": "markdown",
   "metadata": {},
   "source": [
    "### Removing punctuations and cleaning:"
   ]
  },
  {
   "cell_type": "code",
   "execution_count": 248,
   "metadata": {},
   "outputs": [],
   "source": [
    "cleaned_text = lower_case.translate(str.maketrans('','',string.punctuation))\n",
    "cleaned_final = cleaned_text.replace('\\n','').strip()"
   ]
  },
  {
   "cell_type": "markdown",
   "metadata": {},
   "source": [
    "### Splitting the text into list:"
   ]
  },
  {
   "cell_type": "code",
   "execution_count": 249,
   "metadata": {},
   "outputs": [],
   "source": [
    "tokenized_words = word_tokenize(cleaned_final,'english')"
   ]
  },
  {
   "cell_type": "markdown",
   "metadata": {},
   "source": [
    "### Removing the stopwords (eg. I, he, she etc.)"
   ]
  },
  {
   "cell_type": "code",
   "execution_count": 250,
   "metadata": {},
   "outputs": [],
   "source": [
    "final_words = []\n",
    "for word in tokenized_words:\n",
    "    if word not in stopwords.words('english'):\n",
    "        final_words.append(word)"
   ]
  },
  {
   "cell_type": "markdown",
   "metadata": {},
   "source": [
    "### Managing the words (plural to singular) & (base form of word eg.'better' -> 'good'):"
   ]
  },
  {
   "cell_type": "code",
   "execution_count": 251,
   "metadata": {},
   "outputs": [],
   "source": [
    "lemma_words = []\n",
    "for word in final_words:\n",
    "    word = WordNetLemmatizer().lemmatize(word)\n",
    "    lemma_words.append(word)"
   ]
  },
  {
   "cell_type": "markdown",
   "metadata": {},
   "source": [
    "### Importing a text with emotions and compare it with our text:"
   ]
  },
  {
   "cell_type": "code",
   "execution_count": 252,
   "metadata": {},
   "outputs": [],
   "source": [
    "emotion_list = []\n",
    "with open('Emotions.txt','r') as file:\n",
    "    for line in file:\n",
    "        clear_line = line.replace('\\n','').replace(',','').replace(\"'\",'').strip()\n",
    "        word,emotion = clear_line.split(':')\n",
    "        if word in lemma_words:\n",
    "            emotion_list.append(emotion)"
   ]
  },
  {
   "cell_type": "markdown",
   "metadata": {},
   "source": [
    "###  Count the number of similar emotions:"
   ]
  },
  {
   "cell_type": "code",
   "execution_count": 253,
   "metadata": {},
   "outputs": [],
   "source": [
    "w = Counter(emotion_list)"
   ]
  },
  {
   "cell_type": "markdown",
   "metadata": {},
   "source": [
    "### Sentiment score (positive/negative/neutral):"
   ]
  },
  {
   "cell_type": "code",
   "execution_count": 254,
   "metadata": {},
   "outputs": [],
   "source": [
    "def sentiment_analyse(sentiment_text):\n",
    "    score = SentimentIntensityAnalyzer().polarity_scores(sentiment_text)\n",
    "    print('Negative %:', score['neg']*100,'%')\n",
    "    print('Positive %:', score['pos']*100,'%')\n",
    "    print('Neutral %:', score['neu']*100,'%')\n",
    "    if score['neg']>score['pos'] and score['neg']>score['neu']:\n",
    "        print('Overall the news is Negative')\n",
    "    elif score['pos']>score['neg'] and score['pos']>score['neu']:\n",
    "        print('Overall the news is Positive')\n",
    "    elif score['pos'] == score['neg'] or (score['neu']>score['pos'] and score['neu']>score['neg']):\n",
    "        print('Overall the news is Neutral')"
   ]
  },
  {
   "cell_type": "code",
   "execution_count": 255,
   "metadata": {},
   "outputs": [
    {
     "name": "stdout",
     "output_type": "stream",
     "text": [
      "Negative %: 10.5 %\n",
      "Positive %: 8.799999999999999 %\n",
      "Neutral %: 80.7 %\n",
      "Overall the news is Neutral\n"
     ]
    }
   ],
   "source": [
    "sentiment_analyse(cleaned_final)"
   ]
  },
  {
   "cell_type": "markdown",
   "metadata": {},
   "source": [
    "### Plotting histogram for the emotions:"
   ]
  },
  {
   "cell_type": "code",
   "execution_count": 256,
   "metadata": {},
   "outputs": [
    {
     "data": {
      "image/png": "[encoded data removed]",
      "text/plain": [
       "<Figure size 432x288 with 1 Axes>"
      ]
     },
     "metadata": {
      "needs_background": "light"
     },
     "output_type": "display_data"
    }
   ],
   "source": [
    "fig,ax1 = plt.subplots()\n",
    "ax1.bar(w.keys(),w.values())\n",
    "fig.autofmt_xdate()"
   ]
  }
 ],
 "metadata": {
  "kernelspec": {
   "display_name": "Python 3",
   "language": "python",
   "name": "python3"
  },
  "language_info": {
   "codemirror_mode": {
    "name": "ipython",
    "version": 3
   },
   "file_extension": ".py",
   "mimetype": "text/x-python",
   "name": "python",
   "nbconvert_exporter": "python",
   "pygments_lexer": "ipython3",
   "version": "3.7.6"
  }
 },
 "nbformat": 4,
 "nbformat_minor": 4
}
